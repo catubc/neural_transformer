{
 "cells": [
  {
   "cell_type": "code",
   "execution_count": 1,
   "metadata": {},
   "outputs": [
    {
     "data": {
      "application/javascript": "IPython.notebook.set_autosave_interval(180000)"
     },
     "metadata": {},
     "output_type": "display_data"
    },
    {
     "name": "stdout",
     "output_type": "stream",
     "text": [
      "Autosaving every 180 seconds\n"
     ]
    },
    {
     "name": "stderr",
     "output_type": "stream",
     "text": [
      "/tmp/ipykernel_154562/4197309928.py:12: DeprecationWarning: Importing display from IPython.core.display is deprecated since IPython 7.14, please import from IPython display\n",
      "  from IPython.core.display import display, HTML\n"
     ]
    },
    {
     "data": {
      "text/html": [
       "<style>.container { width:100% !important; }</style>"
      ],
      "text/plain": [
       "<IPython.core.display.HTML object>"
      ]
     },
     "metadata": {},
     "output_type": "display_data"
    }
   ],
   "source": [
    "import matplotlib\n",
    "#matplotlib.use('Agg')\n",
    "\n",
    "%load_ext autoreload\n",
    "%autoreload 2\n",
    "\n",
    "%matplotlib tk\n",
    "%autosave 180\n",
    "\n",
    "\n",
    "import matplotlib.pyplot as plt\n",
    "from IPython.core.display import display, HTML\n",
    "display(HTML(\"<style>.container { width:100% !important; }</style>\"))\n",
    "\n",
    "import numpy as np\n",
    "import os\n"
   ]
  },
  {
   "cell_type": "markdown",
   "metadata": {},
   "source": [
    "############### PREDICT NEXT NEURAL TIME SERIES POINT ################ \n",
    "\n",
    "Here we are just trying to get the transformer to learn the dynamics of raw (i.e. PCA denoised) neural time series.\n",
    "\n",
    "#### Step 1: One brain area\n",
    "\n",
    "- input shape [time_points] = [40000]    # this is just a single time series from the visualizion notebook\n",
    "- label: [time_points[1:]]                # here we predict the time series but shifted by 1\n",
    "\n",
    "This is exactly what transformers are developed to do, so we shouldn't have to do too much work to adapt them. We can also smooth or bin the neural data as it's abit noisy. \n",
    "\n",
    "##### Major challenges:\n",
    "\n",
    "1. Figure out how to feed continous time series into the transformer.\n",
    "\n",
    "There are some methods already out there\n",
    "\n",
    "https://huggingface.co/blog/time-series-transformers\n",
    "\n",
    "https://huggingface.co/docs/transformers/model_doc/time_series_transformer\n",
    "\n",
    "\n",
    "#### Step 2: Multiple brain areas\n",
    "\n",
    "- input shape [time_points, n_areas] = [40000, 30]     #  \n",
    "- label: [time_points[1:], 30]                         # \n",
    "\n",
    "##### Major challenges:\n",
    "\n",
    "1. So we would need to extend the above to work with multiple cortical areas...\n"
   ]
  },
  {
   "cell_type": "code",
   "execution_count": null,
   "metadata": {},
   "outputs": [],
   "source": []
  },
  {
   "cell_type": "code",
   "execution_count": null,
   "metadata": {},
   "outputs": [],
   "source": []
  },
  {
   "cell_type": "code",
   "execution_count": null,
   "metadata": {},
   "outputs": [],
   "source": []
  }
 ],
 "metadata": {
  "kernelspec": {
   "display_name": "Python 3",
   "language": "python",
   "name": "python3"
  },
  "language_info": {
   "codemirror_mode": {
    "name": "ipython",
    "version": 3
   },
   "file_extension": ".py",
   "mimetype": "text/x-python",
   "name": "python",
   "nbconvert_exporter": "python",
   "pygments_lexer": "ipython3",
   "version": "3.8.18"
  }
 },
 "nbformat": 4,
 "nbformat_minor": 4
}
